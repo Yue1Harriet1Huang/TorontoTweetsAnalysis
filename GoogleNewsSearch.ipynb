{
  "nbformat": 4,
  "nbformat_minor": 0,
  "metadata": {
    "colab": {
      "name": "Untitled11.ipynb",
      "provenance": [],
      "authorship_tag": "ABX9TyOfDFr8HBopLcRWBZkBXFfG",
      "include_colab_link": true
    },
    "kernelspec": {
      "name": "python3",
      "display_name": "Python 3"
    }
  },
  "cells": [
    {
      "cell_type": "markdown",
      "metadata": {
        "id": "view-in-github",
        "colab_type": "text"
      },
      "source": [
        "<a href=\"https://colab.research.google.com/github/Yue1Harriet1Huang/TorontoTweetsAnalysis/blob/master/GoogleNewsSearch.ipynb\" target=\"_parent\"><img src=\"https://colab.research.google.com/assets/colab-badge.svg\" alt=\"Open In Colab\"/></a>"
      ]
    },
    {
      "cell_type": "code",
      "metadata": {
        "colab": {
          "base_uri": "https://localhost:8080/"
        },
        "id": "YBKUXPdcKY4r",
        "outputId": "6b28cd20-0883-4338-a062-e7f32f9037bc"
      },
      "source": [
        "!pip install GoogleNews"
      ],
      "execution_count": 1,
      "outputs": [
        {
          "output_type": "stream",
          "text": [
            "Collecting GoogleNews\n",
            "  Downloading https://files.pythonhosted.org/packages/f4/ef/058cd7c1991e9b6d9aa2d7d286a2655e17b436e8e3c48ccdd0b73b648cde/GoogleNews-1.5.5-py3-none-any.whl\n",
            "Requirement already satisfied: beautifulsoup4 in /usr/local/lib/python3.7/dist-packages (from GoogleNews) (4.6.3)\n",
            "Collecting dateparser\n",
            "\u001b[?25l  Downloading https://files.pythonhosted.org/packages/78/c4/b5ddc3eeac974d85055d88c1e6b62cc492fc1a93dbe3b66a45a756a7b807/dateparser-1.0.0-py2.py3-none-any.whl (279kB)\n",
            "\u001b[K     |████████████████████████████████| 286kB 4.3MB/s \n",
            "\u001b[?25hRequirement already satisfied: python-dateutil in /usr/local/lib/python3.7/dist-packages (from GoogleNews) (2.8.1)\n",
            "Requirement already satisfied: regex!=2019.02.19 in /usr/local/lib/python3.7/dist-packages (from dateparser->GoogleNews) (2019.12.20)\n",
            "Requirement already satisfied: tzlocal in /usr/local/lib/python3.7/dist-packages (from dateparser->GoogleNews) (1.5.1)\n",
            "Requirement already satisfied: pytz in /usr/local/lib/python3.7/dist-packages (from dateparser->GoogleNews) (2018.9)\n",
            "Requirement already satisfied: six>=1.5 in /usr/local/lib/python3.7/dist-packages (from python-dateutil->GoogleNews) (1.15.0)\n",
            "Installing collected packages: dateparser, GoogleNews\n",
            "Successfully installed GoogleNews-1.5.5 dateparser-1.0.0\n"
          ],
          "name": "stdout"
        }
      ]
    },
    {
      "cell_type": "code",
      "metadata": {
        "colab": {
          "base_uri": "https://localhost:8080/"
        },
        "id": "KlvAyZWWKgJY",
        "outputId": "66068566-f4cc-4b1b-cac9-73254b62de08"
      },
      "source": [
        "!pip install newspaper3k"
      ],
      "execution_count": 2,
      "outputs": [
        {
          "output_type": "stream",
          "text": [
            "Collecting newspaper3k\n",
            "\u001b[?25l  Downloading https://files.pythonhosted.org/packages/d7/b9/51afecb35bb61b188a4b44868001de348a0e8134b4dfa00ffc191567c4b9/newspaper3k-0.2.8-py3-none-any.whl (211kB)\n",
            "\u001b[K     |████████████████████████████████| 215kB 5.5MB/s \n",
            "\u001b[?25hCollecting tldextract>=2.0.1\n",
            "\u001b[?25l  Downloading https://files.pythonhosted.org/packages/7e/62/b6acd3129c5615b9860e670df07fd55b76175b63e6b7f68282c7cad38e9e/tldextract-3.1.0-py2.py3-none-any.whl (87kB)\n",
            "\u001b[K     |████████████████████████████████| 92kB 5.5MB/s \n",
            "\u001b[?25hCollecting tinysegmenter==0.3\n",
            "  Downloading https://files.pythonhosted.org/packages/17/82/86982e4b6d16e4febc79c2a1d68ee3b707e8a020c5d2bc4af8052d0f136a/tinysegmenter-0.3.tar.gz\n",
            "Requirement already satisfied: requests>=2.10.0 in /usr/local/lib/python3.7/dist-packages (from newspaper3k) (2.23.0)\n",
            "Requirement already satisfied: PyYAML>=3.11 in /usr/local/lib/python3.7/dist-packages (from newspaper3k) (3.13)\n",
            "Collecting feedparser>=5.2.1\n",
            "\u001b[?25l  Downloading https://files.pythonhosted.org/packages/1c/21/faf1bac028662cc8adb2b5ef7a6f3999a765baa2835331df365289b0ca56/feedparser-6.0.2-py3-none-any.whl (80kB)\n",
            "\u001b[K     |████████████████████████████████| 81kB 4.1MB/s \n",
            "\u001b[?25hCollecting jieba3k>=0.35.1\n",
            "\u001b[?25l  Downloading https://files.pythonhosted.org/packages/a9/cb/2c8332bcdc14d33b0bedd18ae0a4981a069c3513e445120da3c3f23a8aaa/jieba3k-0.35.1.zip (7.4MB)\n",
            "\u001b[K     |████████████████████████████████| 7.4MB 13.7MB/s \n",
            "\u001b[?25hRequirement already satisfied: lxml>=3.6.0 in /usr/local/lib/python3.7/dist-packages (from newspaper3k) (4.2.6)\n",
            "Collecting cssselect>=0.9.2\n",
            "  Downloading https://files.pythonhosted.org/packages/3b/d4/3b5c17f00cce85b9a1e6f91096e1cc8e8ede2e1be8e96b87ce1ed09e92c5/cssselect-1.1.0-py2.py3-none-any.whl\n",
            "Requirement already satisfied: beautifulsoup4>=4.4.1 in /usr/local/lib/python3.7/dist-packages (from newspaper3k) (4.6.3)\n",
            "Requirement already satisfied: nltk>=3.2.1 in /usr/local/lib/python3.7/dist-packages (from newspaper3k) (3.2.5)\n",
            "Requirement already satisfied: Pillow>=3.3.0 in /usr/local/lib/python3.7/dist-packages (from newspaper3k) (7.0.0)\n",
            "Requirement already satisfied: python-dateutil>=2.5.3 in /usr/local/lib/python3.7/dist-packages (from newspaper3k) (2.8.1)\n",
            "Collecting feedfinder2>=0.0.4\n",
            "  Downloading https://files.pythonhosted.org/packages/35/82/1251fefec3bb4b03fd966c7e7f7a41c9fc2bb00d823a34c13f847fd61406/feedfinder2-0.0.4.tar.gz\n",
            "Collecting requests-file>=1.4\n",
            "  Downloading https://files.pythonhosted.org/packages/77/86/cdb5e8eaed90796aa83a6d9f75cfbd37af553c47a291cd47bc410ef9bdb2/requests_file-1.5.1-py2.py3-none-any.whl\n",
            "Requirement already satisfied: idna in /usr/local/lib/python3.7/dist-packages (from tldextract>=2.0.1->newspaper3k) (2.10)\n",
            "Requirement already satisfied: filelock>=3.0.8 in /usr/local/lib/python3.7/dist-packages (from tldextract>=2.0.1->newspaper3k) (3.0.12)\n",
            "Requirement already satisfied: chardet<4,>=3.0.2 in /usr/local/lib/python3.7/dist-packages (from requests>=2.10.0->newspaper3k) (3.0.4)\n",
            "Requirement already satisfied: certifi>=2017.4.17 in /usr/local/lib/python3.7/dist-packages (from requests>=2.10.0->newspaper3k) (2020.12.5)\n",
            "Requirement already satisfied: urllib3!=1.25.0,!=1.25.1,<1.26,>=1.21.1 in /usr/local/lib/python3.7/dist-packages (from requests>=2.10.0->newspaper3k) (1.24.3)\n",
            "Collecting sgmllib3k\n",
            "  Downloading https://files.pythonhosted.org/packages/9e/bd/3704a8c3e0942d711c1299ebf7b9091930adae6675d7c8f476a7ce48653c/sgmllib3k-1.0.0.tar.gz\n",
            "Requirement already satisfied: six in /usr/local/lib/python3.7/dist-packages (from nltk>=3.2.1->newspaper3k) (1.15.0)\n",
            "Building wheels for collected packages: tinysegmenter, jieba3k, feedfinder2, sgmllib3k\n",
            "  Building wheel for tinysegmenter (setup.py) ... \u001b[?25l\u001b[?25hdone\n",
            "  Created wheel for tinysegmenter: filename=tinysegmenter-0.3-cp37-none-any.whl size=13538 sha256=3bba3aa6285e648d5c9edcf5aa6382f4294df8b158dd65e4fd19e8acbe100fcc\n",
            "  Stored in directory: /root/.cache/pip/wheels/81/2b/43/a02ede72324dd40cdd7ca53aad718c7710628e91b8b0dc0f02\n",
            "  Building wheel for jieba3k (setup.py) ... \u001b[?25l\u001b[?25hdone\n",
            "  Created wheel for jieba3k: filename=jieba3k-0.35.1-cp37-none-any.whl size=7398406 sha256=ad2a74cd880ad7eb5774c0da76da3d52880d7a57e4e4e29a1595375647691190\n",
            "  Stored in directory: /root/.cache/pip/wheels/83/15/9c/a3f1f67e7f7181170ad37d32e503c35da20627c013f438ed34\n",
            "  Building wheel for feedfinder2 (setup.py) ... \u001b[?25l\u001b[?25hdone\n",
            "  Created wheel for feedfinder2: filename=feedfinder2-0.0.4-cp37-none-any.whl size=3358 sha256=cbaf7ac699e5156c1b19be0919a34bcf3af8ac2701fd07cbb5ecf1d1f9c8c5fb\n",
            "  Stored in directory: /root/.cache/pip/wheels/de/03/ca/778e3a7a627e3d98836cc890e7cb40c7575424cfd3340f40ed\n",
            "  Building wheel for sgmllib3k (setup.py) ... \u001b[?25l\u001b[?25hdone\n",
            "  Created wheel for sgmllib3k: filename=sgmllib3k-1.0.0-cp37-none-any.whl size=6067 sha256=57c8d52fdd3cefeff650120ae55cd25d764990cedf79355d3a01bc3a82b63247\n",
            "  Stored in directory: /root/.cache/pip/wheels/f1/80/5a/444ba08a550cdd241bd9baf8bae44be750efe370adb944506a\n",
            "Successfully built tinysegmenter jieba3k feedfinder2 sgmllib3k\n",
            "Installing collected packages: requests-file, tldextract, tinysegmenter, sgmllib3k, feedparser, jieba3k, cssselect, feedfinder2, newspaper3k\n",
            "Successfully installed cssselect-1.1.0 feedfinder2-0.0.4 feedparser-6.0.2 jieba3k-0.35.1 newspaper3k-0.2.8 requests-file-1.5.1 sgmllib3k-1.0.0 tinysegmenter-0.3 tldextract-3.1.0\n"
          ],
          "name": "stdout"
        }
      ]
    },
    {
      "cell_type": "code",
      "metadata": {
        "id": "E2mfrZZrKlcy"
      },
      "source": [
        "from GoogleNews import GoogleNews\r\n",
        "from newspaper import Article\r\n",
        "import pandas as pd"
      ],
      "execution_count": 3,
      "outputs": []
    },
    {
      "cell_type": "code",
      "metadata": {
        "colab": {
          "base_uri": "https://localhost:8080/",
          "height": 919
        },
        "id": "2SMbif1XKyd-",
        "outputId": "01a5b779-1930-42ef-964c-85409672286b"
      },
      "source": [
        "from datetime import datetime\r\n",
        "start_date = \"01/01/2020\"\r\n",
        "end_date = datetime.today().strftime(\"%m/%d/%Y\")\r\n",
        "keyword = \"CDIC\"\r\n",
        "googlenews = GoogleNews(start=start_date, end=end_date)\r\n",
        "googlenews.search(keyword)\r\n",
        "result = googlenews.result()\r\n",
        "df_result = pd.DataFrame(result)\r\n",
        "df_result['media']"
      ],
      "execution_count": 7,
      "outputs": [
        {
          "output_type": "execute_result",
          "data": {
            "text/html": [
              "<div>\n",
              "<style scoped>\n",
              "    .dataframe tbody tr th:only-of-type {\n",
              "        vertical-align: middle;\n",
              "    }\n",
              "\n",
              "    .dataframe tbody tr th {\n",
              "        vertical-align: top;\n",
              "    }\n",
              "\n",
              "    .dataframe thead th {\n",
              "        text-align: right;\n",
              "    }\n",
              "</style>\n",
              "<table border=\"1\" class=\"dataframe\">\n",
              "  <thead>\n",
              "    <tr style=\"text-align: right;\">\n",
              "      <th></th>\n",
              "      <th>title</th>\n",
              "      <th>media</th>\n",
              "      <th>date</th>\n",
              "      <th>datetime</th>\n",
              "      <th>desc</th>\n",
              "      <th>link</th>\n",
              "      <th>img</th>\n",
              "    </tr>\n",
              "  </thead>\n",
              "  <tbody>\n",
              "    <tr>\n",
              "      <th>0</th>\n",
              "      <td>Centre for Defence Industry Capability (CDIC) ...</td>\n",
              "      <td>Australian Defence Magazine</td>\n",
              "      <td>Sep 15, 2020</td>\n",
              "      <td>2020-09-15 00:00:00.000000</td>\n",
              "      <td>The wide-ranging review into the Centre for De...</td>\n",
              "      <td>https://www.australiandefence.com.au/news/cent...</td>\n",
              "      <td>data:image/gif;base64,R0lGODlhAQABAIAAAP//////...</td>\n",
              "    </tr>\n",
              "    <tr>\n",
              "      <th>1</th>\n",
              "      <td>California Milk Advisory Board launches Dairy ...</td>\n",
              "      <td>DairyReporter.com</td>\n",
              "      <td>Oct 8, 2020</td>\n",
              "      <td>2020-10-08 00:00:00.000000</td>\n",
              "      <td>The CDIC will feed dairy innovation efforts wi...</td>\n",
              "      <td>https://www.dairyreporter.com/Article/2020/10/...</td>\n",
              "      <td>data:image/gif;base64,R0lGODlhAQABAIAAAP//////...</td>\n",
              "    </tr>\n",
              "    <tr>\n",
              "      <th>2</th>\n",
              "      <td>CDIC takes action to support the confidence of...</td>\n",
              "      <td>GlobeNewswire</td>\n",
              "      <td>Mar 24, 2020</td>\n",
              "      <td>2020-03-24 00:00:00.000000</td>\n",
              "      <td>Offer acceptable delays on complying with Depo...</td>\n",
              "      <td>https://www.globenewswire.com/news-release/202...</td>\n",
              "      <td>data:image/gif;base64,R0lGODlhAQABAIAAAP//////...</td>\n",
              "    </tr>\n",
              "    <tr>\n",
              "      <th>3</th>\n",
              "      <td>Changes to modernize and strengthen CDIC depos...</td>\n",
              "      <td>GlobeNewswire</td>\n",
              "      <td>Apr 30, 2020</td>\n",
              "      <td>2020-04-30 00:00:00.000000</td>\n",
              "      <td>OTTAWA, April 30, 2020 (GLOBE NEWSWIRE) -- The...</td>\n",
              "      <td>https://www.globenewswire.com/news-release/202...</td>\n",
              "      <td>data:image/gif;base64,R0lGODlhAQABAIAAAP//////...</td>\n",
              "    </tr>\n",
              "    <tr>\n",
              "      <th>4</th>\n",
              "      <td>Supplemental Information: Peoples Trust Compan...</td>\n",
              "      <td>GlobeNewswire</td>\n",
              "      <td>1 month ago</td>\n",
              "      <td>2021-02-09 04:20:21.994343</td>\n",
              "      <td>Supplemental Information: Peoples Trust Compan...</td>\n",
              "      <td>https://www.globenewswire.com/news-release/202...</td>\n",
              "      <td>data:image/gif;base64,R0lGODlhAQABAIAAAP//////...</td>\n",
              "    </tr>\n",
              "    <tr>\n",
              "      <th>5</th>\n",
              "      <td>Media Advisory: CDIC 2020 Annual Public Meetin...</td>\n",
              "      <td>GlobeNewswire</td>\n",
              "      <td>Aug 10, 2020</td>\n",
              "      <td>2020-08-10 00:00:00.000000</td>\n",
              "      <td>The bilingual meeting will highlight how CDIC'...</td>\n",
              "      <td>https://www.globenewswire.com/news-release/202...</td>\n",
              "      <td>data:image/gif;base64,R0lGODlhAQABAIAAAP//////...</td>\n",
              "    </tr>\n",
              "    <tr>\n",
              "      <th>6</th>\n",
              "      <td>Peoples Trust Company Launches CDIC Insurance ...</td>\n",
              "      <td>GlobeNewswire</td>\n",
              "      <td>1 month ago</td>\n",
              "      <td>2021-02-09 04:20:22.001280</td>\n",
              "      <td>The Canada Deposit Insurance Corporation (CDIC...</td>\n",
              "      <td>https://www.globenewswire.com/news-release/202...</td>\n",
              "      <td>data:image/gif;base64,R0lGODlhAQABAIAAAP//////...</td>\n",
              "    </tr>\n",
              "    <tr>\n",
              "      <th>7</th>\n",
              "      <td>Read What is CDIC insurance, how it works and ...</td>\n",
              "      <td>MoneySense</td>\n",
              "      <td>Oct 27, 2020</td>\n",
              "      <td>2020-10-27 00:00:00.000000</td>\n",
              "      <td>Funded by premiums paid by their member financ...</td>\n",
              "      <td>https://www.moneysense.ca/save/banking/cdic-co...</td>\n",
              "      <td>data:image/gif;base64,R0lGODlhAQABAIAAAP//////...</td>\n",
              "    </tr>\n",
              "    <tr>\n",
              "      <th>8</th>\n",
              "      <td>CFL, CDIC team up to re-air classic post-seaso...</td>\n",
              "      <td>CFL.ca</td>\n",
              "      <td>Nov 2, 2020</td>\n",
              "      <td>2020-11-02 00:00:00.000000</td>\n",
              "      <td>TORONTO — On the heels of the Canadian Footbal...</td>\n",
              "      <td>https://www.cfl.ca/2020/11/02/cfl-cdic-team-re...</td>\n",
              "      <td>data:image/gif;base64,R0lGODlhAQABAIAAAP//////...</td>\n",
              "    </tr>\n",
              "    <tr>\n",
              "      <th>9</th>\n",
              "      <td>New CDIC Coverage Creates a Better Safe Haven ...</td>\n",
              "      <td>Investment Executive</td>\n",
              "      <td>May 14, 2020</td>\n",
              "      <td>2020-05-14 00:00:00.000000</td>\n",
              "      <td>Since April 30th, deposits held in foreign cur...</td>\n",
              "      <td>https://www.investmentexecutive.com/in-depth_/...</td>\n",
              "      <td>data:image/gif;base64,R0lGODlhAQABAIAAAP//////...</td>\n",
              "    </tr>\n",
              "  </tbody>\n",
              "</table>\n",
              "</div>"
            ],
            "text/plain": [
              "                                               title  ...                                                img\n",
              "0  Centre for Defence Industry Capability (CDIC) ...  ...  data:image/gif;base64,R0lGODlhAQABAIAAAP//////...\n",
              "1  California Milk Advisory Board launches Dairy ...  ...  data:image/gif;base64,R0lGODlhAQABAIAAAP//////...\n",
              "2  CDIC takes action to support the confidence of...  ...  data:image/gif;base64,R0lGODlhAQABAIAAAP//////...\n",
              "3  Changes to modernize and strengthen CDIC depos...  ...  data:image/gif;base64,R0lGODlhAQABAIAAAP//////...\n",
              "4  Supplemental Information: Peoples Trust Compan...  ...  data:image/gif;base64,R0lGODlhAQABAIAAAP//////...\n",
              "5  Media Advisory: CDIC 2020 Annual Public Meetin...  ...  data:image/gif;base64,R0lGODlhAQABAIAAAP//////...\n",
              "6  Peoples Trust Company Launches CDIC Insurance ...  ...  data:image/gif;base64,R0lGODlhAQABAIAAAP//////...\n",
              "7  Read What is CDIC insurance, how it works and ...  ...  data:image/gif;base64,R0lGODlhAQABAIAAAP//////...\n",
              "8  CFL, CDIC team up to re-air classic post-seaso...  ...  data:image/gif;base64,R0lGODlhAQABAIAAAP//////...\n",
              "9  New CDIC Coverage Creates a Better Safe Haven ...  ...  data:image/gif;base64,R0lGODlhAQABAIAAAP//////...\n",
              "\n",
              "[10 rows x 7 columns]"
            ]
          },
          "metadata": {
            "tags": []
          },
          "execution_count": 7
        }
      ]
    },
    {
      "cell_type": "code",
      "metadata": {
        "colab": {
          "base_uri": "https://localhost:8080/"
        },
        "id": "FZZeasddNKHv",
        "outputId": "99f40add-8510-4257-ed4b-34e999aa04b9"
      },
      "source": [
        "df_result['media'].unique()"
      ],
      "execution_count": 8,
      "outputs": [
        {
          "output_type": "execute_result",
          "data": {
            "text/plain": [
              "array(['Australian Defence Magazine', 'DairyReporter.com',\n",
              "       'GlobeNewswire', 'MoneySense', 'CFL.ca', 'Investment Executive'],\n",
              "      dtype=object)"
            ]
          },
          "metadata": {
            "tags": []
          },
          "execution_count": 8
        }
      ]
    },
    {
      "cell_type": "code",
      "metadata": {
        "colab": {
          "base_uri": "https://localhost:8080/",
          "height": 55
        },
        "id": "Kla1KSjeMOps",
        "outputId": "68f9f246-fee1-47fe-ef96-ed71fafe5d46"
      },
      "source": [
        "df_result['desc'].loc[0]"
      ],
      "execution_count": 11,
      "outputs": [
        {
          "output_type": "execute_result",
          "data": {
            "application/vnd.google.colaboratory.intrinsic+json": {
              "type": "string"
            },
            "text/plain": [
              "'The wide-ranging review into the Centre for Defence Industry Capability (CDIC) has been released by government. It has recommended a series of changes ...'"
            ]
          },
          "metadata": {
            "tags": []
          },
          "execution_count": 11
        }
      ]
    },
    {
      "cell_type": "code",
      "metadata": {
        "id": "SQkbrx9XNxx-"
      },
      "source": [
        ""
      ],
      "execution_count": null,
      "outputs": []
    }
  ]
}